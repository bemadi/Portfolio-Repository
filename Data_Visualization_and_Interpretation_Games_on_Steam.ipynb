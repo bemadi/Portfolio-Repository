{
  "nbformat": 4,
  "nbformat_minor": 0,
  "metadata": {
    "colab": {
      "name": "Data Visualization and Interpretation: Games on Steam.ipynb",
      "provenance": [],
      "collapsed_sections": []
    },
    "kernelspec": {
      "name": "python3",
      "display_name": "Python 3"
    },
    "language_info": {
      "name": "python"
    }
  },
  "cells": [
    {
      "cell_type": "markdown",
      "source": [
        "Steam is the world's most popular digital storefront for pc gaming. In this dataset, data is compiled on various Steam users recording the game they played and how long they play it. Lets explore the most popular titles. "
      ],
      "metadata": {
        "id": "BcbXkL-cQBT9"
      }
    },
    {
      "cell_type": "code",
      "execution_count": null,
      "metadata": {
        "id": "fCrEL3BrKwI0"
      },
      "outputs": [],
      "source": [
        "import pandas as pd\n",
        "import numpy as np\n",
        "import matplotlib.pyplot as plt\n",
        "import seaborn as sns\n",
        "import csv"
      ]
    },
    {
      "cell_type": "code",
      "source": [
        "from google.colab import drive\n",
        "drive.mount('/content/drive')"
      ],
      "metadata": {
        "colab": {
          "base_uri": "https://localhost:8080/"
        },
        "id": "FU0lKaZfLJ5U",
        "outputId": "0e7868c8-7c9f-4cca-faf7-fe6778b1677e"
      },
      "execution_count": null,
      "outputs": [
        {
          "output_type": "stream",
          "name": "stdout",
          "text": [
            "Mounted at /content/drive\n"
          ]
        }
      ]
    },
    {
      "cell_type": "code",
      "source": [
        "df = pd.read_csv('/content/drive/MyDrive/Data/steam-200k.csv', header=None, index_col=None, usecols=[0,1,2,3], names=['UserID', 'GameTitle', 'Action', 'Hours'])\n",
        "df.head(20)"
      ],
      "metadata": {
        "colab": {
          "base_uri": "https://localhost:8080/",
          "height": 676
        },
        "id": "xbDJyg_aLoqP",
        "outputId": "b21a5b50-6392-440f-b94d-8c482f637569"
      },
      "execution_count": null,
      "outputs": [
        {
          "output_type": "execute_result",
          "data": {
            "text/plain": [
              "       UserID                   GameTitle    Action  Hours\n",
              "0   151603712  The Elder Scrolls V Skyrim  purchase    1.0\n",
              "1   151603712  The Elder Scrolls V Skyrim      play  273.0\n",
              "2   151603712                   Fallout 4  purchase    1.0\n",
              "3   151603712                   Fallout 4      play   87.0\n",
              "4   151603712                       Spore  purchase    1.0\n",
              "5   151603712                       Spore      play   14.9\n",
              "6   151603712           Fallout New Vegas  purchase    1.0\n",
              "7   151603712           Fallout New Vegas      play   12.1\n",
              "8   151603712               Left 4 Dead 2  purchase    1.0\n",
              "9   151603712               Left 4 Dead 2      play    8.9\n",
              "10  151603712                    HuniePop  purchase    1.0\n",
              "11  151603712                    HuniePop      play    8.5\n",
              "12  151603712               Path of Exile  purchase    1.0\n",
              "13  151603712               Path of Exile      play    8.1\n",
              "14  151603712                 Poly Bridge  purchase    1.0\n",
              "15  151603712                 Poly Bridge      play    7.5\n",
              "16  151603712                 Left 4 Dead  purchase    1.0\n",
              "17  151603712                 Left 4 Dead      play    3.3\n",
              "18  151603712             Team Fortress 2  purchase    1.0\n",
              "19  151603712             Team Fortress 2      play    2.8"
            ],
            "text/html": [
              "\n",
              "  <div id=\"df-238d1b22-f466-49a0-9988-03e9b325bf34\">\n",
              "    <div class=\"colab-df-container\">\n",
              "      <div>\n",
              "<style scoped>\n",
              "    .dataframe tbody tr th:only-of-type {\n",
              "        vertical-align: middle;\n",
              "    }\n",
              "\n",
              "    .dataframe tbody tr th {\n",
              "        vertical-align: top;\n",
              "    }\n",
              "\n",
              "    .dataframe thead th {\n",
              "        text-align: right;\n",
              "    }\n",
              "</style>\n",
              "<table border=\"1\" class=\"dataframe\">\n",
              "  <thead>\n",
              "    <tr style=\"text-align: right;\">\n",
              "      <th></th>\n",
              "      <th>UserID</th>\n",
              "      <th>GameTitle</th>\n",
              "      <th>Action</th>\n",
              "      <th>Hours</th>\n",
              "    </tr>\n",
              "  </thead>\n",
              "  <tbody>\n",
              "    <tr>\n",
              "      <th>0</th>\n",
              "      <td>151603712</td>\n",
              "      <td>The Elder Scrolls V Skyrim</td>\n",
              "      <td>purchase</td>\n",
              "      <td>1.0</td>\n",
              "    </tr>\n",
              "    <tr>\n",
              "      <th>1</th>\n",
              "      <td>151603712</td>\n",
              "      <td>The Elder Scrolls V Skyrim</td>\n",
              "      <td>play</td>\n",
              "      <td>273.0</td>\n",
              "    </tr>\n",
              "    <tr>\n",
              "      <th>2</th>\n",
              "      <td>151603712</td>\n",
              "      <td>Fallout 4</td>\n",
              "      <td>purchase</td>\n",
              "      <td>1.0</td>\n",
              "    </tr>\n",
              "    <tr>\n",
              "      <th>3</th>\n",
              "      <td>151603712</td>\n",
              "      <td>Fallout 4</td>\n",
              "      <td>play</td>\n",
              "      <td>87.0</td>\n",
              "    </tr>\n",
              "    <tr>\n",
              "      <th>4</th>\n",
              "      <td>151603712</td>\n",
              "      <td>Spore</td>\n",
              "      <td>purchase</td>\n",
              "      <td>1.0</td>\n",
              "    </tr>\n",
              "    <tr>\n",
              "      <th>5</th>\n",
              "      <td>151603712</td>\n",
              "      <td>Spore</td>\n",
              "      <td>play</td>\n",
              "      <td>14.9</td>\n",
              "    </tr>\n",
              "    <tr>\n",
              "      <th>6</th>\n",
              "      <td>151603712</td>\n",
              "      <td>Fallout New Vegas</td>\n",
              "      <td>purchase</td>\n",
              "      <td>1.0</td>\n",
              "    </tr>\n",
              "    <tr>\n",
              "      <th>7</th>\n",
              "      <td>151603712</td>\n",
              "      <td>Fallout New Vegas</td>\n",
              "      <td>play</td>\n",
              "      <td>12.1</td>\n",
              "    </tr>\n",
              "    <tr>\n",
              "      <th>8</th>\n",
              "      <td>151603712</td>\n",
              "      <td>Left 4 Dead 2</td>\n",
              "      <td>purchase</td>\n",
              "      <td>1.0</td>\n",
              "    </tr>\n",
              "    <tr>\n",
              "      <th>9</th>\n",
              "      <td>151603712</td>\n",
              "      <td>Left 4 Dead 2</td>\n",
              "      <td>play</td>\n",
              "      <td>8.9</td>\n",
              "    </tr>\n",
              "    <tr>\n",
              "      <th>10</th>\n",
              "      <td>151603712</td>\n",
              "      <td>HuniePop</td>\n",
              "      <td>purchase</td>\n",
              "      <td>1.0</td>\n",
              "    </tr>\n",
              "    <tr>\n",
              "      <th>11</th>\n",
              "      <td>151603712</td>\n",
              "      <td>HuniePop</td>\n",
              "      <td>play</td>\n",
              "      <td>8.5</td>\n",
              "    </tr>\n",
              "    <tr>\n",
              "      <th>12</th>\n",
              "      <td>151603712</td>\n",
              "      <td>Path of Exile</td>\n",
              "      <td>purchase</td>\n",
              "      <td>1.0</td>\n",
              "    </tr>\n",
              "    <tr>\n",
              "      <th>13</th>\n",
              "      <td>151603712</td>\n",
              "      <td>Path of Exile</td>\n",
              "      <td>play</td>\n",
              "      <td>8.1</td>\n",
              "    </tr>\n",
              "    <tr>\n",
              "      <th>14</th>\n",
              "      <td>151603712</td>\n",
              "      <td>Poly Bridge</td>\n",
              "      <td>purchase</td>\n",
              "      <td>1.0</td>\n",
              "    </tr>\n",
              "    <tr>\n",
              "      <th>15</th>\n",
              "      <td>151603712</td>\n",
              "      <td>Poly Bridge</td>\n",
              "      <td>play</td>\n",
              "      <td>7.5</td>\n",
              "    </tr>\n",
              "    <tr>\n",
              "      <th>16</th>\n",
              "      <td>151603712</td>\n",
              "      <td>Left 4 Dead</td>\n",
              "      <td>purchase</td>\n",
              "      <td>1.0</td>\n",
              "    </tr>\n",
              "    <tr>\n",
              "      <th>17</th>\n",
              "      <td>151603712</td>\n",
              "      <td>Left 4 Dead</td>\n",
              "      <td>play</td>\n",
              "      <td>3.3</td>\n",
              "    </tr>\n",
              "    <tr>\n",
              "      <th>18</th>\n",
              "      <td>151603712</td>\n",
              "      <td>Team Fortress 2</td>\n",
              "      <td>purchase</td>\n",
              "      <td>1.0</td>\n",
              "    </tr>\n",
              "    <tr>\n",
              "      <th>19</th>\n",
              "      <td>151603712</td>\n",
              "      <td>Team Fortress 2</td>\n",
              "      <td>play</td>\n",
              "      <td>2.8</td>\n",
              "    </tr>\n",
              "  </tbody>\n",
              "</table>\n",
              "</div>\n",
              "      <button class=\"colab-df-convert\" onclick=\"convertToInteractive('df-238d1b22-f466-49a0-9988-03e9b325bf34')\"\n",
              "              title=\"Convert this dataframe to an interactive table.\"\n",
              "              style=\"display:none;\">\n",
              "        \n",
              "  <svg xmlns=\"http://www.w3.org/2000/svg\" height=\"24px\"viewBox=\"0 0 24 24\"\n",
              "       width=\"24px\">\n",
              "    <path d=\"M0 0h24v24H0V0z\" fill=\"none\"/>\n",
              "    <path d=\"M18.56 5.44l.94 2.06.94-2.06 2.06-.94-2.06-.94-.94-2.06-.94 2.06-2.06.94zm-11 1L8.5 8.5l.94-2.06 2.06-.94-2.06-.94L8.5 2.5l-.94 2.06-2.06.94zm10 10l.94 2.06.94-2.06 2.06-.94-2.06-.94-.94-2.06-.94 2.06-2.06.94z\"/><path d=\"M17.41 7.96l-1.37-1.37c-.4-.4-.92-.59-1.43-.59-.52 0-1.04.2-1.43.59L10.3 9.45l-7.72 7.72c-.78.78-.78 2.05 0 2.83L4 21.41c.39.39.9.59 1.41.59.51 0 1.02-.2 1.41-.59l7.78-7.78 2.81-2.81c.8-.78.8-2.07 0-2.86zM5.41 20L4 18.59l7.72-7.72 1.47 1.35L5.41 20z\"/>\n",
              "  </svg>\n",
              "      </button>\n",
              "      \n",
              "  <style>\n",
              "    .colab-df-container {\n",
              "      display:flex;\n",
              "      flex-wrap:wrap;\n",
              "      gap: 12px;\n",
              "    }\n",
              "\n",
              "    .colab-df-convert {\n",
              "      background-color: #E8F0FE;\n",
              "      border: none;\n",
              "      border-radius: 50%;\n",
              "      cursor: pointer;\n",
              "      display: none;\n",
              "      fill: #1967D2;\n",
              "      height: 32px;\n",
              "      padding: 0 0 0 0;\n",
              "      width: 32px;\n",
              "    }\n",
              "\n",
              "    .colab-df-convert:hover {\n",
              "      background-color: #E2EBFA;\n",
              "      box-shadow: 0px 1px 2px rgba(60, 64, 67, 0.3), 0px 1px 3px 1px rgba(60, 64, 67, 0.15);\n",
              "      fill: #174EA6;\n",
              "    }\n",
              "\n",
              "    [theme=dark] .colab-df-convert {\n",
              "      background-color: #3B4455;\n",
              "      fill: #D2E3FC;\n",
              "    }\n",
              "\n",
              "    [theme=dark] .colab-df-convert:hover {\n",
              "      background-color: #434B5C;\n",
              "      box-shadow: 0px 1px 3px 1px rgba(0, 0, 0, 0.15);\n",
              "      filter: drop-shadow(0px 1px 2px rgba(0, 0, 0, 0.3));\n",
              "      fill: #FFFFFF;\n",
              "    }\n",
              "  </style>\n",
              "\n",
              "      <script>\n",
              "        const buttonEl =\n",
              "          document.querySelector('#df-238d1b22-f466-49a0-9988-03e9b325bf34 button.colab-df-convert');\n",
              "        buttonEl.style.display =\n",
              "          google.colab.kernel.accessAllowed ? 'block' : 'none';\n",
              "\n",
              "        async function convertToInteractive(key) {\n",
              "          const element = document.querySelector('#df-238d1b22-f466-49a0-9988-03e9b325bf34');\n",
              "          const dataTable =\n",
              "            await google.colab.kernel.invokeFunction('convertToInteractive',\n",
              "                                                     [key], {});\n",
              "          if (!dataTable) return;\n",
              "\n",
              "          const docLinkHtml = 'Like what you see? Visit the ' +\n",
              "            '<a target=\"_blank\" href=https://colab.research.google.com/notebooks/data_table.ipynb>data table notebook</a>'\n",
              "            + ' to learn more about interactive tables.';\n",
              "          element.innerHTML = '';\n",
              "          dataTable['output_type'] = 'display_data';\n",
              "          await google.colab.output.renderOutput(dataTable, element);\n",
              "          const docLink = document.createElement('div');\n",
              "          docLink.innerHTML = docLinkHtml;\n",
              "          element.appendChild(docLink);\n",
              "        }\n",
              "      </script>\n",
              "    </div>\n",
              "  </div>\n",
              "  "
            ]
          },
          "metadata": {},
          "execution_count": 69
        }
      ]
    },
    {
      "cell_type": "code",
      "source": [
        "df.info()"
      ],
      "metadata": {
        "colab": {
          "base_uri": "https://localhost:8080/"
        },
        "id": "m_Bz9TsdOXz4",
        "outputId": "ab003d1c-c6e1-4cc9-c92b-7bc9e97cb6db"
      },
      "execution_count": null,
      "outputs": [
        {
          "output_type": "stream",
          "name": "stdout",
          "text": [
            "<class 'pandas.core.frame.DataFrame'>\n",
            "RangeIndex: 200000 entries, 0 to 199999\n",
            "Data columns (total 5 columns):\n",
            " #   Column     Non-Null Count   Dtype  \n",
            "---  ------     --------------   -----  \n",
            " 0   UserID     200000 non-null  int64  \n",
            " 1   GameTitle  200000 non-null  object \n",
            " 2   Action     200000 non-null  object \n",
            " 3   Hours      200000 non-null  float64\n",
            " 4   Other      200000 non-null  int64  \n",
            "dtypes: float64(1), int64(2), object(2)\n",
            "memory usage: 7.6+ MB\n"
          ]
        }
      ]
    },
    {
      "cell_type": "markdown",
      "source": [
        "**Data Exploration**\n",
        "\n",
        "The 'purchase' rows seem pretty unnecessary. Lets drop those for now. "
      ],
      "metadata": {
        "id": "Vo0_nILXPgv7"
      }
    },
    {
      "cell_type": "code",
      "source": [
        "df=df.loc[df['Action']=='play']\n",
        "df=df.drop(columns=['Action'])\n",
        "df.head()"
      ],
      "metadata": {
        "colab": {
          "base_uri": "https://localhost:8080/",
          "height": 206
        },
        "id": "9HJNB4buOjxU",
        "outputId": "5806e12d-275f-4cc8-bc4d-a41847c2a458"
      },
      "execution_count": null,
      "outputs": [
        {
          "output_type": "execute_result",
          "data": {
            "text/plain": [
              "      UserID                   GameTitle  Hours  Other\n",
              "1  151603712  The Elder Scrolls V Skyrim  273.0      0\n",
              "3  151603712                   Fallout 4   87.0      0\n",
              "5  151603712                       Spore   14.9      0\n",
              "7  151603712           Fallout New Vegas   12.1      0\n",
              "9  151603712               Left 4 Dead 2    8.9      0"
            ],
            "text/html": [
              "\n",
              "  <div id=\"df-b443b441-baee-44ed-943e-566807bb99bd\">\n",
              "    <div class=\"colab-df-container\">\n",
              "      <div>\n",
              "<style scoped>\n",
              "    .dataframe tbody tr th:only-of-type {\n",
              "        vertical-align: middle;\n",
              "    }\n",
              "\n",
              "    .dataframe tbody tr th {\n",
              "        vertical-align: top;\n",
              "    }\n",
              "\n",
              "    .dataframe thead th {\n",
              "        text-align: right;\n",
              "    }\n",
              "</style>\n",
              "<table border=\"1\" class=\"dataframe\">\n",
              "  <thead>\n",
              "    <tr style=\"text-align: right;\">\n",
              "      <th></th>\n",
              "      <th>UserID</th>\n",
              "      <th>GameTitle</th>\n",
              "      <th>Hours</th>\n",
              "      <th>Other</th>\n",
              "    </tr>\n",
              "  </thead>\n",
              "  <tbody>\n",
              "    <tr>\n",
              "      <th>1</th>\n",
              "      <td>151603712</td>\n",
              "      <td>The Elder Scrolls V Skyrim</td>\n",
              "      <td>273.0</td>\n",
              "      <td>0</td>\n",
              "    </tr>\n",
              "    <tr>\n",
              "      <th>3</th>\n",
              "      <td>151603712</td>\n",
              "      <td>Fallout 4</td>\n",
              "      <td>87.0</td>\n",
              "      <td>0</td>\n",
              "    </tr>\n",
              "    <tr>\n",
              "      <th>5</th>\n",
              "      <td>151603712</td>\n",
              "      <td>Spore</td>\n",
              "      <td>14.9</td>\n",
              "      <td>0</td>\n",
              "    </tr>\n",
              "    <tr>\n",
              "      <th>7</th>\n",
              "      <td>151603712</td>\n",
              "      <td>Fallout New Vegas</td>\n",
              "      <td>12.1</td>\n",
              "      <td>0</td>\n",
              "    </tr>\n",
              "    <tr>\n",
              "      <th>9</th>\n",
              "      <td>151603712</td>\n",
              "      <td>Left 4 Dead 2</td>\n",
              "      <td>8.9</td>\n",
              "      <td>0</td>\n",
              "    </tr>\n",
              "  </tbody>\n",
              "</table>\n",
              "</div>\n",
              "      <button class=\"colab-df-convert\" onclick=\"convertToInteractive('df-b443b441-baee-44ed-943e-566807bb99bd')\"\n",
              "              title=\"Convert this dataframe to an interactive table.\"\n",
              "              style=\"display:none;\">\n",
              "        \n",
              "  <svg xmlns=\"http://www.w3.org/2000/svg\" height=\"24px\"viewBox=\"0 0 24 24\"\n",
              "       width=\"24px\">\n",
              "    <path d=\"M0 0h24v24H0V0z\" fill=\"none\"/>\n",
              "    <path d=\"M18.56 5.44l.94 2.06.94-2.06 2.06-.94-2.06-.94-.94-2.06-.94 2.06-2.06.94zm-11 1L8.5 8.5l.94-2.06 2.06-.94-2.06-.94L8.5 2.5l-.94 2.06-2.06.94zm10 10l.94 2.06.94-2.06 2.06-.94-2.06-.94-.94-2.06-.94 2.06-2.06.94z\"/><path d=\"M17.41 7.96l-1.37-1.37c-.4-.4-.92-.59-1.43-.59-.52 0-1.04.2-1.43.59L10.3 9.45l-7.72 7.72c-.78.78-.78 2.05 0 2.83L4 21.41c.39.39.9.59 1.41.59.51 0 1.02-.2 1.41-.59l7.78-7.78 2.81-2.81c.8-.78.8-2.07 0-2.86zM5.41 20L4 18.59l7.72-7.72 1.47 1.35L5.41 20z\"/>\n",
              "  </svg>\n",
              "      </button>\n",
              "      \n",
              "  <style>\n",
              "    .colab-df-container {\n",
              "      display:flex;\n",
              "      flex-wrap:wrap;\n",
              "      gap: 12px;\n",
              "    }\n",
              "\n",
              "    .colab-df-convert {\n",
              "      background-color: #E8F0FE;\n",
              "      border: none;\n",
              "      border-radius: 50%;\n",
              "      cursor: pointer;\n",
              "      display: none;\n",
              "      fill: #1967D2;\n",
              "      height: 32px;\n",
              "      padding: 0 0 0 0;\n",
              "      width: 32px;\n",
              "    }\n",
              "\n",
              "    .colab-df-convert:hover {\n",
              "      background-color: #E2EBFA;\n",
              "      box-shadow: 0px 1px 2px rgba(60, 64, 67, 0.3), 0px 1px 3px 1px rgba(60, 64, 67, 0.15);\n",
              "      fill: #174EA6;\n",
              "    }\n",
              "\n",
              "    [theme=dark] .colab-df-convert {\n",
              "      background-color: #3B4455;\n",
              "      fill: #D2E3FC;\n",
              "    }\n",
              "\n",
              "    [theme=dark] .colab-df-convert:hover {\n",
              "      background-color: #434B5C;\n",
              "      box-shadow: 0px 1px 3px 1px rgba(0, 0, 0, 0.15);\n",
              "      filter: drop-shadow(0px 1px 2px rgba(0, 0, 0, 0.3));\n",
              "      fill: #FFFFFF;\n",
              "    }\n",
              "  </style>\n",
              "\n",
              "      <script>\n",
              "        const buttonEl =\n",
              "          document.querySelector('#df-b443b441-baee-44ed-943e-566807bb99bd button.colab-df-convert');\n",
              "        buttonEl.style.display =\n",
              "          google.colab.kernel.accessAllowed ? 'block' : 'none';\n",
              "\n",
              "        async function convertToInteractive(key) {\n",
              "          const element = document.querySelector('#df-b443b441-baee-44ed-943e-566807bb99bd');\n",
              "          const dataTable =\n",
              "            await google.colab.kernel.invokeFunction('convertToInteractive',\n",
              "                                                     [key], {});\n",
              "          if (!dataTable) return;\n",
              "\n",
              "          const docLinkHtml = 'Like what you see? Visit the ' +\n",
              "            '<a target=\"_blank\" href=https://colab.research.google.com/notebooks/data_table.ipynb>data table notebook</a>'\n",
              "            + ' to learn more about interactive tables.';\n",
              "          element.innerHTML = '';\n",
              "          dataTable['output_type'] = 'display_data';\n",
              "          await google.colab.output.renderOutput(dataTable, element);\n",
              "          const docLink = document.createElement('div');\n",
              "          docLink.innerHTML = docLinkHtml;\n",
              "          element.appendChild(docLink);\n",
              "        }\n",
              "      </script>\n",
              "    </div>\n",
              "  </div>\n",
              "  "
            ]
          },
          "metadata": {},
          "execution_count": 5
        }
      ]
    },
    {
      "cell_type": "code",
      "source": [
        "print('There are', len(pd.unique(df['UserID'])), 'steam users in this dataset.')\n",
        "print(\"Number of Games : \", len(pd.unique(df['GameTitle'])))"
      ],
      "metadata": {
        "colab": {
          "base_uri": "https://localhost:8080/"
        },
        "id": "wpn0MF32RJ7I",
        "outputId": "cbc9c76f-8560-4a65-b565-6c01ef454e1f"
      },
      "execution_count": null,
      "outputs": [
        {
          "output_type": "stream",
          "name": "stdout",
          "text": [
            "There are 11350 steam users in this dataset.\n",
            "Number of Games :  3600\n"
          ]
        }
      ]
    },
    {
      "cell_type": "markdown",
      "source": [
        "**Data Visualization**\n",
        "\n",
        "Lets start by visualizing the top 10 most played games on Steam"
      ],
      "metadata": {
        "id": "UcA9B6YTTPWj"
      }
    },
    {
      "cell_type": "code",
      "source": [
        "top = 10\n",
        "hours_played = df.groupby('GameTitle')['Hours'].agg(np.sum).sort_values(ascending=False)\n",
        "hours_played = pd.DataFrame({'Game': hours_played.index, 'Hours Played': hours_played.values})[0:top]\n",
        "\n",
        "sns.barplot(y = 'Game', x = 'Hours Played', data = hours_played);"
      ],
      "metadata": {
        "id": "elMLf_EhTV3N",
        "colab": {
          "base_uri": "https://localhost:8080/",
          "height": 279
        },
        "outputId": "787be54b-0994-4974-a8a0-02f6e4fefd31"
      },
      "execution_count": null,
      "outputs": [
        {
          "output_type": "display_data",
          "data": {
            "text/plain": [
              "<Figure size 432x288 with 1 Axes>"
            ],
            "image/png": "[encoded data removed]"
          },
          "metadata": {
            "needs_background": "light"
          }
        }
      ]
    },
    {
      "cell_type": "markdown",
      "source": [
        "This plot shows the games with the most *cumulative* hours played on Steam. Now let's sort the top 10 games played by the most active users on steam. "
      ],
      "metadata": {
        "id": "CGNAx__c6r6G"
      }
    },
    {
      "cell_type": "code",
      "source": [
        "user_counts = df.groupby('UserID')['Hours'].agg(np.sum).sort_values(ascending=False)[0:top]\n",
        "new = df['UserID'].isin(user_counts.index)\n",
        "df_user_info = df.loc[new]\n",
        "user_hours_played = df_user_info.groupby('GameTitle')['Hours'].agg(np.sum).sort_values(ascending=False)\n",
        "user_hours_played = pd.DataFrame({'game': user_hours_played.index, 'Hours Played': user_hours_played.values})[0:top]\n",
        "\n",
        "sns.barplot(y='game', x='Hours Played', data = user_hours_played);"
      ],
      "metadata": {
        "colab": {
          "base_uri": "https://localhost:8080/",
          "height": 279
        },
        "id": "yw183C_B68Y9",
        "outputId": "bee1057c-1d95-46b6-e4cd-2f0772251b66"
      },
      "execution_count": null,
      "outputs": [
        {
          "output_type": "display_data",
          "data": {
            "text/plain": [
              "<Figure size 432x288 with 1 Axes>"
            ],
            "image/png": "[encoded data removed]"
          },
          "metadata": {
            "needs_background": "light"
          }
        }
      ]
    },
    {
      "cell_type": "code",
      "source": [
        "array = df_user_info['UserID'].unique()\n",
        "count = np.count_nonzero(array)\n",
        "print('There are', count, 'users in the graph above.')"
      ],
      "metadata": {
        "colab": {
          "base_uri": "https://localhost:8080/"
        },
        "id": "RC_RHMMhDGp6",
        "outputId": "f6c0ade4-0951-411c-c7bb-18f30e6a61d7"
      },
      "execution_count": null,
      "outputs": [
        {
          "output_type": "stream",
          "name": "stdout",
          "text": [
            "There are 10 users in the graph above.\n"
          ]
        }
      ]
    },
    {
      "cell_type": "markdown",
      "source": [
        "Let's put the two graphs side-by-side to better compare the two groups. "
      ],
      "metadata": {
        "id": "atjVBx1BJnys"
      }
    },
    {
      "cell_type": "code",
      "source": [
        "fig, ax = plt.subplots(1,2, figsize=(20, top))\n",
        "sns.barplot(y = 'Game', x = 'Hours Played', data = hours_played, ax=ax[0])\n",
        "sns.barplot(y='game', x='Hours Played', data = user_hours_played, ax=ax[1])\n",
        "ax[1].yaxis.tick_right()\n",
        "ax[1].yaxis.set_label_position('right')\n",
        "ax[0].set_title('Top 10 Games with Most Cumulative Hours Played amongst all Users')\n",
        "ax[1].set_title('Top 10 Games with Most Cumulative Hours Played amongst top 10 Users');"
      ],
      "metadata": {
        "colab": {
          "base_uri": "https://localhost:8080/",
          "height": 521
        },
        "id": "a4pZ-7D7GePq",
        "outputId": "82f9fd48-be85-47de-f266-9ac24744a52d"
      },
      "execution_count": null,
      "outputs": [
        {
          "output_type": "display_data",
          "data": {
            "text/plain": [
              "<Figure size 1440x720 with 2 Axes>"
            ],
            "image/png": "[encoded data removed]"
          },
          "metadata": {
            "needs_background": "light"
          }
        }
      ]
    },
    {
      "cell_type": "markdown",
      "source": [
        "Interestingly, there are noticable differences between the games that appear in the two figures. For instance, *The Elder Scrolls V: Skyrim* (a game in which I've personally invested plenty of time) is ranked as the 7th most played game on Steam amongst all users, but does not appear in the top 10 games played by the most active players on Steam. We can infer from this that *Skyrim* is a title that appeals to wide audience, but is not as popular amongst the most hardcore of gamers. \n",
        "\n",
        "Additionally, *Sid Meier's Civilization V* is the most popular game amongst the top 10 most active users, but is less popular among users as a whole, placing 5th in cumulative ranking well behind *Dota 2* and *CS:GO*. We can infer from this that *Civilization V*, while still popular, has more appeal with hardcore gamers, and has a devoted fanbase, rather than broad appeal. The same can be said for *Football Manager 2015* and *Football Manager 2012*, which do not even appear in the rankings for all users, but appear 9th and 10th respectively among the top 10 players. \n",
        "\n",
        "Lets switch our focus to another phenomenon on Steam. Due to the convenience of the Steam storefront, along with the frequency of sales and the abundance of inexpensive indie titles, it is very common for users to purchase a game on Steam, but never actually get around to playing it. Let's bring back the 'purchased' column to compare how many games are purchased, but ignored by players. "
      ],
      "metadata": {
        "id": "ZkXKaCSHLb4s"
      }
    },
    {
      "cell_type": "code",
      "source": [
        "x = df.groupby(['UserID', 'GameTitle'])['Action'].size()\n",
        "s = x[x==1]\n",
        "print('There were', len(x), 'games purchased on Steam in this sample.')\n",
        "print('Of those,', len(s), 'games were never actually played.')"
      ],
      "metadata": {
        "colab": {
          "base_uri": "https://localhost:8080/"
        },
        "id": "PHYH9kN2lRYc",
        "outputId": "27ea7c19-5612-412a-9946-d001857d5e9c"
      },
      "execution_count": null,
      "outputs": [
        {
          "output_type": "stream",
          "name": "stdout",
          "text": [
            "There were 128804 games purchased on Steam in this sample.\n",
            "Of those, 57904 games were never actually played.\n"
          ]
        }
      ]
    },
    {
      "cell_type": "code",
      "source": [
        "boolean_index = df.groupby(['UserID','GameTitle'])['Action'].transform('size') < 2\n",
        "df.loc[boolean_index, 'Hours'] = 0\n",
        "df.loc[df['Hours']==0]\n",
        "\n",
        "df.loc[df.Hours==0, 'Action'] = 'play'\n",
        "\n",
        "ignored_df = df.loc[df['Hours']==0]\n",
        "ignored_df.head()"
      ],
      "metadata": {
        "colab": {
          "base_uri": "https://localhost:8080/",
          "height": 206
        },
        "id": "Fy2_pwL529qM",
        "outputId": "a7f835a1-93da-407d-b11a-558d534eb3ed"
      },
      "execution_count": null,
      "outputs": [
        {
          "output_type": "execute_result",
          "data": {
            "text/plain": [
              "       UserID                          GameTitle Action  Hours\n",
              "52  151603712                          Alan Wake   play    0.0\n",
              "53  151603712                         BioShock 2   play    0.0\n",
              "54  151603712                       Fallen Earth   play    0.0\n",
              "55  151603712  Fallout New Vegas Courier's Stash   play    0.0\n",
              "56  151603712       Fallout New Vegas Dead Money   play    0.0"
            ],
            "text/html": [
              "\n",
              "  <div id=\"df-e394bb5c-9395-4b6e-9f19-8d4419f21ae6\">\n",
              "    <div class=\"colab-df-container\">\n",
              "      <div>\n",
              "<style scoped>\n",
              "    .dataframe tbody tr th:only-of-type {\n",
              "        vertical-align: middle;\n",
              "    }\n",
              "\n",
              "    .dataframe tbody tr th {\n",
              "        vertical-align: top;\n",
              "    }\n",
              "\n",
              "    .dataframe thead th {\n",
              "        text-align: right;\n",
              "    }\n",
              "</style>\n",
              "<table border=\"1\" class=\"dataframe\">\n",
              "  <thead>\n",
              "    <tr style=\"text-align: right;\">\n",
              "      <th></th>\n",
              "      <th>UserID</th>\n",
              "      <th>GameTitle</th>\n",
              "      <th>Action</th>\n",
              "      <th>Hours</th>\n",
              "    </tr>\n",
              "  </thead>\n",
              "  <tbody>\n",
              "    <tr>\n",
              "      <th>52</th>\n",
              "      <td>151603712</td>\n",
              "      <td>Alan Wake</td>\n",
              "      <td>play</td>\n",
              "      <td>0.0</td>\n",
              "    </tr>\n",
              "    <tr>\n",
              "      <th>53</th>\n",
              "      <td>151603712</td>\n",
              "      <td>BioShock 2</td>\n",
              "      <td>play</td>\n",
              "      <td>0.0</td>\n",
              "    </tr>\n",
              "    <tr>\n",
              "      <th>54</th>\n",
              "      <td>151603712</td>\n",
              "      <td>Fallen Earth</td>\n",
              "      <td>play</td>\n",
              "      <td>0.0</td>\n",
              "    </tr>\n",
              "    <tr>\n",
              "      <th>55</th>\n",
              "      <td>151603712</td>\n",
              "      <td>Fallout New Vegas Courier's Stash</td>\n",
              "      <td>play</td>\n",
              "      <td>0.0</td>\n",
              "    </tr>\n",
              "    <tr>\n",
              "      <th>56</th>\n",
              "      <td>151603712</td>\n",
              "      <td>Fallout New Vegas Dead Money</td>\n",
              "      <td>play</td>\n",
              "      <td>0.0</td>\n",
              "    </tr>\n",
              "  </tbody>\n",
              "</table>\n",
              "</div>\n",
              "      <button class=\"colab-df-convert\" onclick=\"convertToInteractive('df-e394bb5c-9395-4b6e-9f19-8d4419f21ae6')\"\n",
              "              title=\"Convert this dataframe to an interactive table.\"\n",
              "              style=\"display:none;\">\n",
              "        \n",
              "  <svg xmlns=\"http://www.w3.org/2000/svg\" height=\"24px\"viewBox=\"0 0 24 24\"\n",
              "       width=\"24px\">\n",
              "    <path d=\"M0 0h24v24H0V0z\" fill=\"none\"/>\n",
              "    <path d=\"M18.56 5.44l.94 2.06.94-2.06 2.06-.94-2.06-.94-.94-2.06-.94 2.06-2.06.94zm-11 1L8.5 8.5l.94-2.06 2.06-.94-2.06-.94L8.5 2.5l-.94 2.06-2.06.94zm10 10l.94 2.06.94-2.06 2.06-.94-2.06-.94-.94-2.06-.94 2.06-2.06.94z\"/><path d=\"M17.41 7.96l-1.37-1.37c-.4-.4-.92-.59-1.43-.59-.52 0-1.04.2-1.43.59L10.3 9.45l-7.72 7.72c-.78.78-.78 2.05 0 2.83L4 21.41c.39.39.9.59 1.41.59.51 0 1.02-.2 1.41-.59l7.78-7.78 2.81-2.81c.8-.78.8-2.07 0-2.86zM5.41 20L4 18.59l7.72-7.72 1.47 1.35L5.41 20z\"/>\n",
              "  </svg>\n",
              "      </button>\n",
              "      \n",
              "  <style>\n",
              "    .colab-df-container {\n",
              "      display:flex;\n",
              "      flex-wrap:wrap;\n",
              "      gap: 12px;\n",
              "    }\n",
              "\n",
              "    .colab-df-convert {\n",
              "      background-color: #E8F0FE;\n",
              "      border: none;\n",
              "      border-radius: 50%;\n",
              "      cursor: pointer;\n",
              "      display: none;\n",
              "      fill: #1967D2;\n",
              "      height: 32px;\n",
              "      padding: 0 0 0 0;\n",
              "      width: 32px;\n",
              "    }\n",
              "\n",
              "    .colab-df-convert:hover {\n",
              "      background-color: #E2EBFA;\n",
              "      box-shadow: 0px 1px 2px rgba(60, 64, 67, 0.3), 0px 1px 3px 1px rgba(60, 64, 67, 0.15);\n",
              "      fill: #174EA6;\n",
              "    }\n",
              "\n",
              "    [theme=dark] .colab-df-convert {\n",
              "      background-color: #3B4455;\n",
              "      fill: #D2E3FC;\n",
              "    }\n",
              "\n",
              "    [theme=dark] .colab-df-convert:hover {\n",
              "      background-color: #434B5C;\n",
              "      box-shadow: 0px 1px 3px 1px rgba(0, 0, 0, 0.15);\n",
              "      filter: drop-shadow(0px 1px 2px rgba(0, 0, 0, 0.3));\n",
              "      fill: #FFFFFF;\n",
              "    }\n",
              "  </style>\n",
              "\n",
              "      <script>\n",
              "        const buttonEl =\n",
              "          document.querySelector('#df-e394bb5c-9395-4b6e-9f19-8d4419f21ae6 button.colab-df-convert');\n",
              "        buttonEl.style.display =\n",
              "          google.colab.kernel.accessAllowed ? 'block' : 'none';\n",
              "\n",
              "        async function convertToInteractive(key) {\n",
              "          const element = document.querySelector('#df-e394bb5c-9395-4b6e-9f19-8d4419f21ae6');\n",
              "          const dataTable =\n",
              "            await google.colab.kernel.invokeFunction('convertToInteractive',\n",
              "                                                     [key], {});\n",
              "          if (!dataTable) return;\n",
              "\n",
              "          const docLinkHtml = 'Like what you see? Visit the ' +\n",
              "            '<a target=\"_blank\" href=https://colab.research.google.com/notebooks/data_table.ipynb>data table notebook</a>'\n",
              "            + ' to learn more about interactive tables.';\n",
              "          element.innerHTML = '';\n",
              "          dataTable['output_type'] = 'display_data';\n",
              "          await google.colab.output.renderOutput(dataTable, element);\n",
              "          const docLink = document.createElement('div');\n",
              "          docLink.innerHTML = docLinkHtml;\n",
              "          element.appendChild(docLink);\n",
              "        }\n",
              "      </script>\n",
              "    </div>\n",
              "  </div>\n",
              "  "
            ]
          },
          "metadata": {},
          "execution_count": 104
        }
      ]
    },
    {
      "cell_type": "markdown",
      "source": [
        "This dataset contains the games that users purchased, but never played. Let's explore and see which games get ignored the most, as well as which users are apt to purchase a game they will never play."
      ],
      "metadata": {
        "id": "gLQPISY36VsP"
      }
    },
    {
      "cell_type": "code",
      "source": [
        "top = 10\n",
        "fig, ax = plt.subplots(1,2,figsize=(20,top))\n",
        "sns.countplot(y='GameTitle', data=ignored_df, order=ignored_df.GameTitle.value_counts().iloc[:top].index, ax=ax[0])\n",
        "sns.countplot(y='UserID', data=ignored_df, order=ignored_df.UserID.value_counts().iloc[:top].index, ax=ax[1])\n",
        "ax[1].yaxis.tick_right()\n",
        "ax[1].yaxis.set_label_position('right')\n",
        "ax[1].set_title('Number of Games Purchased, but not Played by User ID')\n",
        "ax[0].set_title('Top 10 Number of Games Purchased, but not Played');"
      ],
      "metadata": {
        "colab": {
          "base_uri": "https://localhost:8080/",
          "height": 557
        },
        "id": "YFQ9Sk-U6jB9",
        "outputId": "e4a8dad6-7b1a-4bd6-faa3-6d632510078a"
      },
      "execution_count": null,
      "outputs": [
        {
          "output_type": "display_data",
          "data": {
            "text/plain": [
              "<Figure size 1440x720 with 2 Axes>"
            ],
            "image/png": "[encoded data removed]"
          },
          "metadata": {
            "needs_background": "light"
          }
        }
      ]
    },
    {
      "cell_type": "markdown",
      "source": [
        "What stands out to me here is that a lot of the games in the top 10 'purchased but not played' table are DLC packs (downloadable content) for other games in the Steam library. Time spent playing DLC is not recorded by Steam, it is just added to the time spent playing the base game. If we exclude the DLC packs, which we cant reliably say were never played, then *Ricochet* is the top most ignored game on Steam, with over 500 users purchasing, but never playing it. "
      ],
      "metadata": {
        "id": "RdmgAsSsCt3U"
      }
    }
  ]
}